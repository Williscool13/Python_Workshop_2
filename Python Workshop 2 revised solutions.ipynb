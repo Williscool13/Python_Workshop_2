{
 "cells": [
  {
   "cell_type": "markdown",
   "metadata": {},
   "source": [
    "# The Zen of Python"
   ]
  },
  {
   "cell_type": "code",
   "execution_count": null,
   "metadata": {},
   "outputs": [],
   "source": [
    "import this"
   ]
  },
  {
   "cell_type": "markdown",
   "metadata": {},
   "source": [
    "# Strings"
   ]
  },
  {
   "cell_type": "code",
   "execution_count": null,
   "metadata": {},
   "outputs": [],
   "source": [
    "phrase = 'Hello World'"
   ]
  },
  {
   "cell_type": "code",
   "execution_count": null,
   "metadata": {},
   "outputs": [],
   "source": [
    "print(phrase)"
   ]
  },
  {
   "cell_type": "code",
   "execution_count": null,
   "metadata": {},
   "outputs": [],
   "source": [
    "string1 = 'My name is '\n",
    "string2 = 'William Gunawan'\n",
    "print(string1 + string2)"
   ]
  },
  {
   "cell_type": "markdown",
   "metadata": {},
   "source": [
    "# Lists\n",
    "\n",
    "\n"
   ]
  },
  {
   "cell_type": "code",
   "execution_count": null,
   "metadata": {},
   "outputs": [],
   "source": [
    "our_list = ['H','e','l','l','o',' ','W','o','r','l','d']"
   ]
  },
  {
   "cell_type": "code",
   "execution_count": null,
   "metadata": {},
   "outputs": [],
   "source": [
    "print(our_list)"
   ]
  },
  {
   "cell_type": "code",
   "execution_count": null,
   "metadata": {},
   "outputs": [],
   "source": [
    "list1 = ['Hi','My','Name']\n",
    "list2 = ['Is', 'William']"
   ]
  },
  {
   "cell_type": "markdown",
   "metadata": {},
   "source": [
    "#### Adding to list"
   ]
  },
  {
   "cell_type": "code",
   "execution_count": null,
   "metadata": {},
   "outputs": [],
   "source": [
    "list1.append('Really')\n",
    "print(list1)"
   ]
  },
  {
   "cell_type": "code",
   "execution_count": null,
   "metadata": {},
   "outputs": [],
   "source": [
    "list1.append(list2)\n",
    "print(list1)"
   ]
  },
  {
   "cell_type": "markdown",
   "metadata": {},
   "source": [
    "#### Removing"
   ]
  },
  {
   "cell_type": "code",
   "execution_count": null,
   "metadata": {},
   "outputs": [],
   "source": [
    "#This removes the named item\n",
    "list1.remove(\"Really\")"
   ]
  },
  {
   "cell_type": "code",
   "execution_count": null,
   "metadata": {},
   "outputs": [],
   "source": [
    "#This removes the final index (last item), or specified name\n",
    "list1.pop()"
   ]
  },
  {
   "cell_type": "code",
   "execution_count": null,
   "metadata": {},
   "outputs": [],
   "source": [
    "#This removes the item at that index\n",
    "del list1[0]"
   ]
  },
  {
   "cell_type": "code",
   "execution_count": null,
   "metadata": {},
   "outputs": [],
   "source": [
    "#This empties the list\n",
    "list1.clear()"
   ]
  },
  {
   "cell_type": "code",
   "execution_count": null,
   "metadata": {},
   "outputs": [],
   "source": [
    "#This deletes list entirely\n",
    "del list1"
   ]
  },
  {
   "cell_type": "markdown",
   "metadata": {},
   "source": [
    "#### Copying"
   ]
  },
  {
   "cell_type": "code",
   "execution_count": null,
   "metadata": {},
   "outputs": [],
   "source": [
    "new_list = list1.copy()\n",
    "print(list1)\n",
    "print(new_list)"
   ]
  },
  {
   "cell_type": "markdown",
   "metadata": {},
   "source": [
    "### Manipulations that can be done on strings and lists"
   ]
  },
  {
   "cell_type": "markdown",
   "metadata": {},
   "source": [
    "__Queries__\n",
    "<br>_len_ (length)\n",
    "<br>_in_ (inside)"
   ]
  },
  {
   "cell_type": "code",
   "execution_count": null,
   "metadata": {},
   "outputs": [],
   "source": [
    "phrase = 'Hello World'\n",
    "our_list = ['H','e','l','l','o',' ','W','o','r','l','d']"
   ]
  },
  {
   "cell_type": "code",
   "execution_count": null,
   "metadata": {},
   "outputs": [],
   "source": [
    "print(len(phrase))"
   ]
  },
  {
   "cell_type": "code",
   "execution_count": null,
   "metadata": {},
   "outputs": [],
   "source": [
    "print(len(our_list))"
   ]
  },
  {
   "cell_type": "code",
   "execution_count": null,
   "metadata": {},
   "outputs": [],
   "source": [
    "print('h' in phrase)\n",
    "print('H' in phrase)"
   ]
  },
  {
   "cell_type": "code",
   "execution_count": null,
   "metadata": {},
   "outputs": [],
   "source": [
    "print('X' in our_list)"
   ]
  },
  {
   "cell_type": "markdown",
   "metadata": {},
   "source": [
    "__Indexing__"
   ]
  },
  {
   "cell_type": "code",
   "execution_count": null,
   "metadata": {},
   "outputs": [],
   "source": [
    "print(phrase[0])\n",
    "print(phrase[1])"
   ]
  },
  {
   "cell_type": "code",
   "execution_count": null,
   "metadata": {},
   "outputs": [],
   "source": [
    "print(our_list[0])"
   ]
  },
  {
   "cell_type": "code",
   "execution_count": null,
   "metadata": {},
   "outputs": [],
   "source": [
    "s = 'String'"
   ]
  },
  {
   "cell_type": "code",
   "execution_count": null,
   "metadata": {},
   "outputs": [],
   "source": [
    "s[2:-2]"
   ]
  },
  {
   "cell_type": "code",
   "execution_count": null,
   "metadata": {},
   "outputs": [],
   "source": [
    "our_list[0] = 'YOU SUCK'\n",
    "print(our_list[0])"
   ]
  },
  {
   "cell_type": "code",
   "execution_count": null,
   "metadata": {},
   "outputs": [],
   "source": [
    "print(our_list)"
   ]
  },
  {
   "cell_type": "markdown",
   "metadata": {},
   "source": [
    "__Index Slicing__"
   ]
  },
  {
   "cell_type": "code",
   "execution_count": null,
   "metadata": {},
   "outputs": [],
   "source": [
    "phrase = 'Hello World'\n",
    "print(phrase[:5])\n",
    "print('New')\n",
    "print(phrase[6:])"
   ]
  },
  {
   "cell_type": "code",
   "execution_count": null,
   "metadata": {},
   "outputs": [],
   "source": [
    "s = 'String'"
   ]
  },
  {
   "cell_type": "code",
   "execution_count": null,
   "metadata": {},
   "outputs": [],
   "source": [
    "s[::-2]"
   ]
  },
  {
   "cell_type": "code",
   "execution_count": null,
   "metadata": {},
   "outputs": [],
   "source": [
    "print(our_list[:5])\n",
    "print('Hmmm')\n",
    "print(our_list[6:])"
   ]
  },
  {
   "cell_type": "markdown",
   "metadata": {},
   "source": [
    "# Tuples\n",
    "### A tuple is a collection which is ordered and unchangeable. In Python tuples are written with round brackets."
   ]
  },
  {
   "cell_type": "code",
   "execution_count": null,
   "metadata": {},
   "outputs": [],
   "source": [
    "thistuple = (\"apple\", \"banana\", \"cherry\")\n",
    "print(thistuple)"
   ]
  },
  {
   "cell_type": "markdown",
   "metadata": {},
   "source": [
    "##### Access tuples similar to a normal list"
   ]
  },
  {
   "cell_type": "code",
   "execution_count": null,
   "metadata": {},
   "outputs": [],
   "source": [
    "print(thistuple[0])"
   ]
  },
  {
   "cell_type": "code",
   "execution_count": null,
   "metadata": {},
   "outputs": [],
   "source": [
    "for x in thistuple:\n",
    "    print(x + ' haha')"
   ]
  },
  {
   "cell_type": "code",
   "execution_count": null,
   "metadata": {},
   "outputs": [],
   "source": [
    "thistuple[0] = 'not possible'"
   ]
  },
  {
   "cell_type": "markdown",
   "metadata": {},
   "source": [
    "# Dictionaries"
   ]
  },
  {
   "cell_type": "code",
   "execution_count": 1,
   "metadata": {},
   "outputs": [],
   "source": [
    "personal_info = {\"Name\": \"William\", \"Age\": 20, \"Birth Date\": 1999}"
   ]
  },
  {
   "cell_type": "code",
   "execution_count": 2,
   "metadata": {},
   "outputs": [
    {
     "name": "stdout",
     "output_type": "stream",
     "text": [
      "William\n"
     ]
    }
   ],
   "source": [
    "print(personal_info['Name'])"
   ]
  },
  {
   "cell_type": "code",
   "execution_count": 3,
   "metadata": {},
   "outputs": [],
   "source": [
    "personal_info['Name'] = 'Thomas'"
   ]
  },
  {
   "cell_type": "code",
   "execution_count": 4,
   "metadata": {},
   "outputs": [
    {
     "name": "stdout",
     "output_type": "stream",
     "text": [
      "{'Name': 'Thomas', 'Age': 20, 'Birth Date': 1999}\n"
     ]
    }
   ],
   "source": [
    "print(personal_info)"
   ]
  },
  {
   "cell_type": "markdown",
   "metadata": {},
   "source": [
    "### Looping over dictionaries"
   ]
  },
  {
   "cell_type": "code",
   "execution_count": 5,
   "metadata": {},
   "outputs": [
    {
     "name": "stdout",
     "output_type": "stream",
     "text": [
      "Name\n",
      "Age\n",
      "Birth Date\n",
      "{'Name': 'Thomas', 'Age': 20, 'Birth Date': 1999}\n"
     ]
    }
   ],
   "source": [
    "for x in personal_info:\n",
    "  print(x)\n",
    "\n",
    "print(personal_info)"
   ]
  },
  {
   "cell_type": "code",
   "execution_count": 6,
   "metadata": {},
   "outputs": [
    {
     "name": "stdout",
     "output_type": "stream",
     "text": [
      "Thomas\n",
      "20\n",
      "1999\n",
      "dict_values(['Thomas', 20, 1999])\n"
     ]
    }
   ],
   "source": [
    "for x in personal_info.values():\n",
    "  print(x)\n",
    "\n",
    "print(personal_info.values())"
   ]
  },
  {
   "cell_type": "code",
   "execution_count": 7,
   "metadata": {},
   "outputs": [
    {
     "name": "stdout",
     "output_type": "stream",
     "text": [
      "Name Thomas\n",
      "Age 20\n",
      "Birth Date 1999\n"
     ]
    }
   ],
   "source": [
    "for x, y in personal_info.items():\n",
    "  print(x, y)"
   ]
  },
  {
   "cell_type": "markdown",
   "metadata": {},
   "source": [
    "#### Adding / Removing Items"
   ]
  },
  {
   "cell_type": "code",
   "execution_count": 8,
   "metadata": {},
   "outputs": [],
   "source": [
    "personal_info['Maiden Name'] = 'Williscool'"
   ]
  },
  {
   "cell_type": "code",
   "execution_count": 9,
   "metadata": {},
   "outputs": [
    {
     "name": "stdout",
     "output_type": "stream",
     "text": [
      "{'Name': 'Thomas', 'Age': 20, 'Birth Date': 1999, 'Maiden Name': 'Williscool'}\n"
     ]
    }
   ],
   "source": [
    "print(personal_info)"
   ]
  },
  {
   "cell_type": "code",
   "execution_count": 10,
   "metadata": {},
   "outputs": [
    {
     "data": {
      "text/plain": [
       "'Williscool'"
      ]
     },
     "execution_count": 10,
     "metadata": {},
     "output_type": "execute_result"
    }
   ],
   "source": [
    "personal_info.pop(\"Maiden Name\")"
   ]
  },
  {
   "cell_type": "code",
   "execution_count": 11,
   "metadata": {},
   "outputs": [
    {
     "name": "stdout",
     "output_type": "stream",
     "text": [
      "{'Name': 'Thomas', 'Age': 20, 'Birth Date': 1999}\n"
     ]
    }
   ],
   "source": [
    "print(personal_info)"
   ]
  },
  {
   "cell_type": "markdown",
   "metadata": {},
   "source": [
    "# If statements\n",
    "```\n",
    "if conditional:\n",
    "    action_A\n",
    "elif conditional2:\n",
    "    action_B\n",
    "else:\n",
    "    action_C\n",
    "```"
   ]
  },
  {
   "cell_type": "code",
   "execution_count": 12,
   "metadata": {},
   "outputs": [],
   "source": [
    "phrase = 'I Love Python'"
   ]
  },
  {
   "cell_type": "code",
   "execution_count": 13,
   "metadata": {},
   "outputs": [
    {
     "name": "stdout",
     "output_type": "stream",
     "text": [
      "x and z are not in the phrase!\n"
     ]
    }
   ],
   "source": [
    "if 'x' in phrase:\n",
    "    print('x is in the phrase!')\n",
    "elif 'z' in phrase:\n",
    "    print('z is in the phrase!')\n",
    "else:\n",
    "    print('x and z are not in the phrase!')"
   ]
  },
  {
   "cell_type": "markdown",
   "metadata": {},
   "source": [
    "# Conditionals"
   ]
  },
  {
   "cell_type": "code",
   "execution_count": 14,
   "metadata": {},
   "outputs": [
    {
     "name": "stdout",
     "output_type": "stream",
     "text": [
      "True\n"
     ]
    }
   ],
   "source": [
    "print(10 > 5 and 5 > 3)"
   ]
  },
  {
   "cell_type": "code",
   "execution_count": 15,
   "metadata": {},
   "outputs": [
    {
     "name": "stdout",
     "output_type": "stream",
     "text": [
      "False\n"
     ]
    }
   ],
   "source": [
    "print(10 > 5 and 5 > 100)"
   ]
  },
  {
   "cell_type": "code",
   "execution_count": 16,
   "metadata": {},
   "outputs": [
    {
     "name": "stdout",
     "output_type": "stream",
     "text": [
      "True\n"
     ]
    }
   ],
   "source": [
    "print(10 > 5 or 5 > 100)"
   ]
  },
  {
   "cell_type": "markdown",
   "metadata": {},
   "source": [
    "# For Loops\n",
    "```\n",
    "for item in iterable:\n",
    "    do stuff\n",
    "```"
   ]
  },
  {
   "cell_type": "code",
   "execution_count": 17,
   "metadata": {},
   "outputs": [],
   "source": [
    "names = ['alice', 'bob', 'charlie']"
   ]
  },
  {
   "cell_type": "code",
   "execution_count": 18,
   "metadata": {},
   "outputs": [
    {
     "name": "stdout",
     "output_type": "stream",
     "text": [
      "alice\n",
      "bob\n",
      "charlie\n"
     ]
    }
   ],
   "source": [
    "for name in names:\n",
    "    print(name)"
   ]
  },
  {
   "cell_type": "code",
   "execution_count": 19,
   "metadata": {},
   "outputs": [
    {
     "name": "stdout",
     "output_type": "stream",
     "text": [
      "alice\n",
      "bob\n",
      "charlie\n"
     ]
    }
   ],
   "source": [
    "for number in range(len(names)):\n",
    "    print(names[number])"
   ]
  },
  {
   "cell_type": "code",
   "execution_count": 20,
   "metadata": {},
   "outputs": [],
   "source": [
    "name = 'William Gunawan'"
   ]
  },
  {
   "cell_type": "code",
   "execution_count": 22,
   "metadata": {},
   "outputs": [
    {
     "name": "stdout",
     "output_type": "stream",
     "text": [
      "W W W W\n",
      "i i i i\n",
      "l l l l\n",
      "l l l l\n",
      "i i i i\n",
      "a a a a\n",
      "m m m m\n",
      "       \n",
      "G G G G\n",
      "u u u u\n",
      "n n n n\n",
      "a a a a\n",
      "w w w w\n",
      "a a a a\n",
      "n n n n\n"
     ]
    }
   ],
   "source": [
    "for letter in name:\n",
    "    print(letter, letter, letter, letter, sep = ' ')"
   ]
  },
  {
   "cell_type": "code",
   "execution_count": null,
   "metadata": {},
   "outputs": [],
   "source": [
    "for x in range(6):\n",
    "  print(x)\n",
    "else:\n",
    "  print(\"Finally finished!\")"
   ]
  },
  {
   "cell_type": "markdown",
   "metadata": {},
   "source": [
    "# While Loops\n",
    "```\n",
    "while conditional:\n",
    "    do stuff\n",
    "```"
   ]
  },
  {
   "cell_type": "code",
   "execution_count": null,
   "metadata": {},
   "outputs": [],
   "source": [
    "i = 1\n",
    "while i < 6:\n",
    "  print(i)\n",
    "  i += 1"
   ]
  },
  {
   "cell_type": "markdown",
   "metadata": {},
   "source": [
    "# Break and Continue"
   ]
  },
  {
   "cell_type": "code",
   "execution_count": 23,
   "metadata": {},
   "outputs": [],
   "source": [
    "names = ['alice', 'bob', 'charlie']"
   ]
  },
  {
   "cell_type": "code",
   "execution_count": 24,
   "metadata": {},
   "outputs": [
    {
     "name": "stdout",
     "output_type": "stream",
     "text": [
      "alice\n",
      "charlie\n"
     ]
    }
   ],
   "source": [
    "for name in names:\n",
    "    if name == 'bob':\n",
    "        continue\n",
    "    print(name)"
   ]
  },
  {
   "cell_type": "code",
   "execution_count": 25,
   "metadata": {},
   "outputs": [
    {
     "name": "stdout",
     "output_type": "stream",
     "text": [
      "alice\n"
     ]
    }
   ],
   "source": [
    "for name in names:\n",
    "    if name == 'bob':\n",
    "        break\n",
    "    print(name)"
   ]
  },
  {
   "cell_type": "code",
   "execution_count": 26,
   "metadata": {},
   "outputs": [
    {
     "name": "stdout",
     "output_type": "stream",
     "text": [
      "1\n",
      "2\n",
      "4\n",
      "5\n",
      "6\n"
     ]
    }
   ],
   "source": [
    "i = 0\n",
    "\n",
    "\n",
    "while i < 6:\n",
    "    i = i + 1\n",
    "    if i == 3:\n",
    "        continue\n",
    "    print(i)\n",
    "    "
   ]
  },
  {
   "cell_type": "code",
   "execution_count": 27,
   "metadata": {},
   "outputs": [
    {
     "name": "stdout",
     "output_type": "stream",
     "text": [
      "0\n",
      "1\n",
      "2\n"
     ]
    }
   ],
   "source": [
    "i = 0\n",
    "while i < 6:\n",
    "    if i == 3:\n",
    "        break\n",
    "    print(i)\n",
    "    i = i + 1"
   ]
  },
  {
   "cell_type": "markdown",
   "metadata": {},
   "source": [
    "# range()"
   ]
  },
  {
   "cell_type": "code",
   "execution_count": 28,
   "metadata": {},
   "outputs": [
    {
     "name": "stdout",
     "output_type": "stream",
     "text": [
      "range(0, 5)\n",
      "[0, 1, 2, 3, 4]\n"
     ]
    }
   ],
   "source": [
    "current_list = range(5)\n",
    "print(current_list)\n",
    "print(list(current_list))"
   ]
  },
  {
   "cell_type": "code",
   "execution_count": 29,
   "metadata": {},
   "outputs": [
    {
     "name": "stdout",
     "output_type": "stream",
     "text": [
      "range(2, 5)\n",
      "[2, 3, 4]\n"
     ]
    }
   ],
   "source": [
    "second_list = range(2,5)\n",
    "print(second_list)\n",
    "print(list(second_list))"
   ]
  },
  {
   "cell_type": "markdown",
   "metadata": {},
   "source": [
    "# Nested Loops"
   ]
  },
  {
   "cell_type": "code",
   "execution_count": 30,
   "metadata": {},
   "outputs": [],
   "source": [
    "numbers1 = [4,7,3]\n",
    "numbers2 = [9,3,6]"
   ]
  },
  {
   "cell_type": "code",
   "execution_count": 31,
   "metadata": {},
   "outputs": [
    {
     "name": "stdout",
     "output_type": "stream",
     "text": [
      "4 plus 9 is 13\n",
      "4 plus 3 is 7\n",
      "4 plus 6 is 10\n",
      "7 plus 9 is 16\n",
      "7 plus 3 is 10\n",
      "7 plus 6 is 13\n",
      "3 plus 9 is 12\n",
      "3 plus 3 is 6\n",
      "3 plus 6 is 9\n"
     ]
    }
   ],
   "source": [
    "for number1 in numbers1:\n",
    "    for number2 in numbers2:\n",
    "        print(number1, 'plus', number2, 'is', str(number1 + number2))"
   ]
  },
  {
   "cell_type": "markdown",
   "metadata": {},
   "source": [
    "## Some fun things you can observe"
   ]
  },
  {
   "cell_type": "code",
   "execution_count": 32,
   "metadata": {},
   "outputs": [
    {
     "name": "stdout",
     "output_type": "stream",
     "text": [
      "alice\n",
      "bob\n",
      "charlie\n"
     ]
    }
   ],
   "source": [
    "names = ['alice', 'bob', 'charlie']\n",
    "\n",
    "for number in range(3):\n",
    "    print(names[number])"
   ]
  },
  {
   "cell_type": "code",
   "execution_count": 33,
   "metadata": {},
   "outputs": [
    {
     "name": "stdout",
     "output_type": "stream",
     "text": [
      "xx"
     ]
    }
   ],
   "source": [
    "for number in range(3):\n",
    "    if number >= 2:\n",
    "        break\n",
    "    print('x', end = '')"
   ]
  },
  {
   "cell_type": "markdown",
   "metadata": {},
   "source": [
    "# Functions\n",
    "### Basic Function\n",
    "```\n",
    "def function_name(parameter):\n",
    "    \n",
    "    a = parameter + 1\n",
    "    \n",
    "    return a\n",
    "    \n",
    "\n",
    "```"
   ]
  },
  {
   "cell_type": "code",
   "execution_count": 34,
   "metadata": {},
   "outputs": [],
   "source": [
    "def is_even(number):\n",
    "    if number % 2 == 0:\n",
    "        return True\n",
    "    else:\n",
    "        return False"
   ]
  },
  {
   "cell_type": "code",
   "execution_count": 36,
   "metadata": {},
   "outputs": [
    {
     "data": {
      "text/plain": [
       "False"
      ]
     },
     "execution_count": 36,
     "metadata": {},
     "output_type": "execute_result"
    }
   ],
   "source": [
    "is_even(1)"
   ]
  },
  {
   "cell_type": "markdown",
   "metadata": {},
   "source": [
    "### Functions with positional arguments\n",
    "```\n",
    "def function_name(parameter, param2 = 'default'):\n",
    "    a = parameter + param2\n",
    "    \n",
    "    return a\n",
    "```"
   ]
  },
  {
   "cell_type": "code",
   "execution_count": 37,
   "metadata": {},
   "outputs": [],
   "source": [
    "def is_even(number, print_this = 'Victory!'):\n",
    "    if number % 2 == 0:\n",
    "        print(print_this)\n",
    "        return True\n",
    "    else:\n",
    "        return False"
   ]
  },
  {
   "cell_type": "code",
   "execution_count": 38,
   "metadata": {},
   "outputs": [
    {
     "name": "stdout",
     "output_type": "stream",
     "text": [
      "Victory!\n",
      "True\n"
     ]
    }
   ],
   "source": [
    "print(is_even(2))"
   ]
  },
  {
   "cell_type": "code",
   "execution_count": 39,
   "metadata": {},
   "outputs": [
    {
     "name": "stdout",
     "output_type": "stream",
     "text": [
      "YOU SUCK\n",
      "True\n"
     ]
    }
   ],
   "source": [
    "print(is_even(4, print_this = 'YOU SUCK'))"
   ]
  },
  {
   "cell_type": "code",
   "execution_count": 40,
   "metadata": {},
   "outputs": [
    {
     "ename": "SyntaxError",
     "evalue": "positional argument follows keyword argument (<ipython-input-40-f1d262a6d166>, line 1)",
     "output_type": "error",
     "traceback": [
      "\u001b[1;36m  File \u001b[1;32m\"<ipython-input-40-f1d262a6d166>\"\u001b[1;36m, line \u001b[1;32m1\u001b[0m\n\u001b[1;33m    print(is_even(print_this = 'LOSS!', 4))\u001b[0m\n\u001b[1;37m                                       ^\u001b[0m\n\u001b[1;31mSyntaxError\u001b[0m\u001b[1;31m:\u001b[0m positional argument follows keyword argument\n"
     ]
    }
   ],
   "source": [
    "print(is_even(print_this = 'LOSS!', 4))"
   ]
  },
  {
   "cell_type": "code",
   "execution_count": 41,
   "metadata": {},
   "outputs": [],
   "source": [
    "def caesar_plus_one(word):\n",
    "    new_word = ''\n",
    "    for letter in word:\n",
    "        new_word += chr(ord(letter) + 1)\n",
    "    return new_word\n",
    "    "
   ]
  },
  {
   "cell_type": "code",
   "execution_count": 42,
   "metadata": {},
   "outputs": [
    {
     "name": "stdout",
     "output_type": "stream",
     "text": [
      "William\n",
      "turns into:\n",
      "Xjmmjbn\n"
     ]
    }
   ],
   "source": [
    "word = 'William'\n",
    "print(word)\n",
    "print('turns into:')\n",
    "print(caesar_plus_one(word))"
   ]
  },
  {
   "cell_type": "code",
   "execution_count": 43,
   "metadata": {},
   "outputs": [
    {
     "name": "stdout",
     "output_type": "stream",
     "text": [
      "z\n",
      "however, z turns into: \n",
      "{\n"
     ]
    }
   ],
   "source": [
    "word = 'z'\n",
    "print(word)\n",
    "print('however,', word, 'turns into: ')\n",
    "print(caesar_plus_one(word))"
   ]
  },
  {
   "cell_type": "markdown",
   "metadata": {},
   "source": [
    "# Input / Output\n",
    "#### Reading files on your computer\n",
    "\n",
    "Syntax to open file*:\n",
    "```\n",
    "with open(filename, mode = current_mode) as f:\n",
    "    do stuff\n",
    "```\n",
    "\n",
    "\n",
    "\n",
    "can also be found on:\n",
    "https://docs.python.org/3/library/functions.html#open\n",
    "<br><br>\n",
    "\n",
    "*this is a __'context manager'__, which is a special method to open files. Without it, if files are not closed properly, there will me memory leaks"
   ]
  },
  {
   "cell_type": "markdown",
   "metadata": {},
   "source": [
    "## Modes\n",
    "#### The 2 common modes you will be using are read and write, mode = 'r' and mode = 'w' respectively"
   ]
  },
  {
   "cell_type": "code",
   "execution_count": 53,
   "metadata": {},
   "outputs": [],
   "source": [
    "def read_file(filename):\n",
    "    with open(filename, mode = 'r') as f:\n",
    "        #There is an indent here\n",
    "        #You can read line by line with the command below\n",
    "        for line in f:\n",
    "            print(line)"
   ]
  },
  {
   "cell_type": "code",
   "execution_count": 54,
   "metadata": {
    "scrolled": true
   },
   "outputs": [
    {
     "name": "stdout",
     "output_type": "stream",
     "text": [
      "Small Town Girl|Pete Masitti|Country Pop|Country|3:45\n",
      "\n",
      "Hi Ho Cowboy|Jody Jenkins|Head Out West|Country|3:12\n",
      "\n",
      "We Are The Earth|Bruce Maginnis|Australian Folk|Country|3:54\n",
      "\n",
      "Bootleg Stomp|David O'Brien|Desolate Slide Guitar|Country|2:51\n",
      "\n",
      "Live It In Style|Tim Garland|Hollywood Swings!|Jazz|2:13\n",
      "\n",
      "Sweet Revival|James Taylor|Electric Black|Jazz|2:08\n",
      "\n",
      "Sidewalk Shuffle|Alexander L'Estrange|Ben Parry|Jazz|2:43\n",
      "\n",
      "Double Jeopardy|Chris Egan|Scoring Sessions Film Noir|Jazz|2:27\n",
      "\n",
      "Tropical Rain|Paddy Conn|Super-America|Pop|3:13\n",
      "\n",
      "Daughter of the Moon|Annie Drury|Luna|Pop|3:54\n",
      "\n",
      "This is My Time|Marc Jackson Burrows|Something About You|Pop|3:08\n",
      "\n",
      "Sunshine Beach|Terry Devine-King|Spanish Lifestyle|Latin|2:34\n",
      "\n",
      "Gleam of Light|Keith Beauvais|Lumiere|Latin|2:34\n",
      "\n",
      "Little and Sweet|Lucas Cantor|Comedy Percussion|Latin|2:40\n",
      "\n",
      "Dancing Man|Neil Sidwell|Show Shoppers|R&B|2:47\n",
      "\n",
      "Alright With Me|Lincoln Grounds|Rhythm,Roots and Boots|R&B|2:51\n",
      "\n",
      "Cookin' Up A Storm|Terry Devine-King|50's Rock-n-Roll|R&B|2:41\n",
      "\n",
      "Take You Home|Bob Bradley|Sunny Indie Reggae|Reggae|3:46\n",
      "\n",
      "Crossroads|William Davies|Classic Reggae|Reggae|3:48\n",
      "\n",
      "Truth|Pete Masitti|Electronic Rock Reggae|Reggae|3:32\n"
     ]
    }
   ],
   "source": [
    "read_file(r'D:\\Desktop\\input.dat')"
   ]
  },
  {
   "cell_type": "code",
   "execution_count": 56,
   "metadata": {},
   "outputs": [],
   "source": [
    "def write_file(filename):\n",
    "    with open(filename, mode = 'w') as f:\n",
    "        print('This will be written to FILE NAME', file=f)"
   ]
  },
  {
   "cell_type": "code",
   "execution_count": 57,
   "metadata": {},
   "outputs": [],
   "source": [
    "write_file(r'D:\\Desktop\\songs3.txt')"
   ]
  },
  {
   "cell_type": "markdown",
   "metadata": {},
   "source": [
    "# Python Workshop 2 Exercise:\n",
    "<br>\n",
    "take some time to complete this exercise, shouldn't take more than 60 minutes\n",
    "\n",
    "# Caesar Cipher and Vigenere Cipher\n"
   ]
  },
  {
   "cell_type": "code",
   "execution_count": 58,
   "metadata": {},
   "outputs": [],
   "source": [
    "import itertools\n",
    "import time"
   ]
  },
  {
   "cell_type": "code",
   "execution_count": 72,
   "metadata": {},
   "outputs": [],
   "source": [
    "def encrypt_caesar(plaintext):\n",
    "    # This part of the code implements the encrypt_caesar function\n",
    "    ## plaintext is a string to encrypt\n",
    "    \n",
    "    # Your job is to shift each character in the plaintext by THREE spaces\n",
    "    # If the character reaches the end, it loops back to the star (see example below)\n",
    "    # Non-alphabetic characters should NOT be affected\n",
    "    # ' ' doesn't change, '.' doesn't change, ',' doesn't change\n",
    "\n",
    "\n",
    "    # 'Z' + 3 = 'C'\n",
    "    # 'A' + 3 = 'D'\n",
    "    # 'B' + 3 = 'E'\n",
    "    # 'a' + 3 = 'd'\n",
    "    # 'z' + 3 = 'c'\n",
    "    \n",
    "    # Encrypting 'PYTHON' returns 'SBWKRQ\n",
    "    # 'P' + 3 = 'S'\n",
    "    # 'Y' + 3 = 'B'\n",
    "    \n",
    "    \n",
    "    # Have a look at ord() and chr()\n",
    "    # https://docs.python.org/3/library/functions.html#ord\n",
    "    # https://docs.python.org/3/library/functions.html#chr\n",
    "    \n",
    "    \n",
    "    #########################################################\n",
    "    #START CODE HERE\n",
    "    new_word = ''\n",
    "    for letter in plaintext:\n",
    "        new_letter = ord(letter) + 3\n",
    "        if new_letter - 3 == 32:\n",
    "            new_word += ' '\n",
    "            continue\n",
    "        \n",
    "        if new_letter > 90 and new_letter < 94:\n",
    "            new_letter -= 26\n",
    "        if new_letter > 122:\n",
    "            new_letter -= 26\n",
    "            \n",
    "        new_word += chr(new_letter)\n",
    "    \n",
    "    ciphertext = new_word\n",
    "    #END CODE HERE\n",
    "    #########################################################\n",
    "    \n",
    "    return ciphertext"
   ]
  },
  {
   "cell_type": "code",
   "execution_count": 73,
   "metadata": {},
   "outputs": [
    {
     "data": {
      "text/plain": [
       "'KDKD'"
      ]
     },
     "execution_count": 73,
     "metadata": {},
     "output_type": "execute_result"
    }
   ],
   "source": [
    "encrypt_caesar('HAHA')"
   ]
  },
  {
   "cell_type": "code",
   "execution_count": 74,
   "metadata": {},
   "outputs": [],
   "source": [
    "def decrypt_caesar(ciphertext):\n",
    "    # This part of the code implements the decrypt_caesar function\n",
    "    ## ciphertext is a string to decrypt\n",
    "    \n",
    "    # Your job here is similar to the one in encrypt_caesar()\n",
    "    # You shift characters backwards rather than forward\n",
    "    # Keep in mind if any character is shifted past A or a, it loops back to Z\n",
    "    \n",
    "    # 'a' - 3 = 'x'\n",
    "    # 'B' - 3 = 'Y'\n",
    "    \n",
    "    # Decrypting 'SBWKRQ' returns 'PYTHON'\n",
    "    \n",
    "    \n",
    "    #########################################################\n",
    "    #START CODE HERE\n",
    "\n",
    "\n",
    "\n",
    "\n",
    "\n",
    "    plaintext = 'nothing yet!'\n",
    "    #END CODE HERE\n",
    "    #########################################################\n",
    "    \n",
    "    return plaintext"
   ]
  },
  {
   "cell_type": "code",
   "execution_count": 85,
   "metadata": {},
   "outputs": [],
   "source": [
    "def encrypt_vignere(plaintext, key):\n",
    "    # This part of the code implements the encrypt_vignere function\n",
    "    ## plaintext is a string to be encrypted\n",
    "    ## key is the key to encrypt the string with\n",
    "    \n",
    "    # Your job is to shift each character in the plaintext by a variable amount\n",
    "    # The amount to shift any letter in the plaintext is determined by the key\n",
    "    # Symbols should also NOT be shifted \n",
    "    #\n",
    "    #\n",
    "    # The letter 'A' shifts a character 0 spaces\n",
    "    # The letter 'B' shifts a character 1 space\n",
    "    #\n",
    "    # Encrypting 'ATTACKATDAWN' with key 'LEMON' gives 'LXFOPVEFRNHR'\n",
    "    # 'A' + key 'L' = 'L'\n",
    "    # 'a' + key 'L' = 'l'\n",
    "    # 'T' + key 'E' = 'X'\n",
    "    \n",
    "    # The key is repeated to produce a key of: 'LEMONLEMONLE'\n",
    "    # If the key is shorter than the plaintext, the key is repeated \n",
    "    \n",
    "    \n",
    "\n",
    "    # Have a look at \"itertools documentation\"\n",
    "    # https://docs.python.org/2/library/itertools.html\n",
    "    # Might be useful for this assignment\n",
    "    \n",
    "    \n",
    "    #########################################################\n",
    "    #START CODE HERE\n",
    "    a = itertools.cycle(key)\n",
    "    final_word = ''\n",
    "\n",
    "    for letter in plaintext:\n",
    "        final_letter = ord(letter[0]) + (ord(next(a)) - 65)\n",
    "        \n",
    "        if final_letter - 3 == 32:\n",
    "            final_wrd += ' '\n",
    "            continue\n",
    "        \n",
    "        if letter == letter.upper():\n",
    "            while final_letter > 90:\n",
    "                final_letter -= 26\n",
    "        if letter == letter.lower():\n",
    "            while final_letter > 122:\n",
    "                final_letter -= 26\n",
    "        final_word += chr(final_letter)\n",
    "    ciphertext = final_word\n",
    "    #END CODE HERE\n",
    "    #########################################################\n",
    "    \n",
    "    \n",
    "    return ciphertext"
   ]
  },
  {
   "cell_type": "code",
   "execution_count": 82,
   "metadata": {},
   "outputs": [],
   "source": [
    "def decrypt_vignere(ciphertext, key):\n",
    "    #This part of the code implements the decrypt_vignere function\n",
    "    ##ciphertext is a string to be decrypted\n",
    "    ##key is the key to decrypt the string with\n",
    "    \n",
    "    # Similar to the encrypt vignere, your job is to reverse the encryption\n",
    "    # Shifting backwards, following similar rules to the encrypt_vignere()\n",
    "\n",
    "\n",
    "    #########################################################\n",
    "    #START CODE HERE\n",
    "\n",
    "\n",
    "\n",
    "\n",
    "\n",
    "    plaintext = 'nothing yet!'\n",
    "    #END CODE HERE\n",
    "    #########################################################\n",
    "    \n",
    "    \n",
    "    return plaintext"
   ]
  },
  {
   "cell_type": "code",
   "execution_count": 64,
   "metadata": {},
   "outputs": [],
   "source": [
    "def main():\n",
    "    #DO NOT EDIT THIS\n",
    "    #################################\n",
    "    #CAESAR ENCRYPT AND DECRYPT\n",
    "    \n",
    "    print('You are now encrypting the phrase: \"I Love Python\" using caesar cipher')\n",
    "    ciphertext = encrypt_caesar(\"I Love Python\")\n",
    "    print('The ciphertext produced is:', ciphertext)\n",
    "    print('It should be: L Oryh Sbwkrq')\n",
    "    if ciphertext == 'L Oryh Sbwkrq':\n",
    "        print('(1)You are correct, congratulations~')\n",
    "    else: \n",
    "        print('(1)You are incorrect, please go back and repair your code')\n",
    "    time.sleep(4)\n",
    "    \n",
    "    \n",
    "    \n",
    "    print('\\nYou are now decrypting the ciphertext: \"L Oryh Sbwkrq\" using caesar cipher')\n",
    "    plaintext = decrypt_caesar(ciphertext)\n",
    "    print('The decrypted text is:', plaintext)\n",
    "    print('It should be: I Love Python')\n",
    "    if ciphertext == 'I Love Python':\n",
    "        print('(2)You are correct, congratulations~')\n",
    "    else: \n",
    "        print('(2)You are incorrect, please go back and repair your code')\n",
    "    time.sleep(4)\n",
    "    \n",
    "    \n",
    "    \n",
    "    \n",
    "    #VIGNERE ENCRYPT AND DECRYPT\n",
    "    print('\\nYou are now encrypting the phrase: \"ATTACKATDAWN\" using vignere cipher\\nkey: LEMON')\n",
    "    ciphertext = encrypt_vignere(\"ATTACKATDAWN\", \"LEMON\")\n",
    "    print('The ciphertext produced is:', ciphertext)    \n",
    "    print('It should be: LXFOPVEFRNHR')\n",
    "    if ciphertext == 'LXFOPVEFRNHR':\n",
    "        print('(3)You are correct, congratulations~')\n",
    "    else: \n",
    "        print('(3)You are incorrect, please go back and repair your code')\n",
    "    time.sleep(4)\n",
    "    \n",
    "    print('\\nYou are now decrypting the ciphertext: \"LXFOPVEFRNHR\" using vignere cipher\\nkey: LEMON')\n",
    "    plaintext = decrypt_vignere(ciphertext, \"LEMON\")\n",
    "    print('The decrypted text is:', plaintext)\n",
    "    print('It should be: ATTACKATDAWN')\n",
    "    if ciphertext == 'ATTACKATDAWN':\n",
    "        print('(4)You are correct, congratulations~')\n",
    "    else: \n",
    "        print('(4)You are incorrect, please go back and repair your code')"
   ]
  },
  {
   "cell_type": "code",
   "execution_count": 87,
   "metadata": {},
   "outputs": [
    {
     "name": "stdout",
     "output_type": "stream",
     "text": [
      "You are now encrypting the phrase: \"I Love Python\" using caesar cipher\n",
      "The ciphertext produced is: L Oryh Sbwkrq\n",
      "It should be: L Oryh Sbwkrq\n",
      "(1)You are correct, congratulations~\n",
      "\n",
      "You are now decrypting the ciphertext: \"L Oryh Sbwkrq\" using caesar cipher\n",
      "The decrypted text is: nothing yet!\n",
      "It should be: I Love Python\n",
      "(2)You are incorrect, please go back and repair your code\n",
      "\n",
      "You are now encrypting the phrase: \"ATTACKATDAWN\" using vignere cipher\n",
      "key: LEMON\n",
      "The ciphertext produced is: LXFOPVEFRNHR\n",
      "It should be: LXFOPVEFRNHR\n",
      "(3)You are correct, congratulations~\n",
      "\n",
      "You are now decrypting the ciphertext: \"LXFOPVEFRNHR\" using vignere cipher\n",
      "key: LEMON\n",
      "The decrypted text is: nothing yet!\n",
      "It should be: ATTACKATDAWN\n",
      "(4)You are incorrect, please go back and repair your code\n"
     ]
    }
   ],
   "source": [
    "main()"
   ]
  },
  {
   "cell_type": "code",
   "execution_count": null,
   "metadata": {},
   "outputs": [],
   "source": []
  }
 ],
 "metadata": {
  "kernelspec": {
   "display_name": "Python 3",
   "language": "python",
   "name": "python3"
  },
  "language_info": {
   "codemirror_mode": {
    "name": "ipython",
    "version": 3
   },
   "file_extension": ".py",
   "mimetype": "text/x-python",
   "name": "python",
   "nbconvert_exporter": "python",
   "pygments_lexer": "ipython3",
   "version": "3.7.3"
  }
 },
 "nbformat": 4,
 "nbformat_minor": 2
}
